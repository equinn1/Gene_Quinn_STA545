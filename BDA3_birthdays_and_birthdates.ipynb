{
 "cells": [
  {
   "cell_type": "markdown",
   "metadata": {},
   "source": [
    "# BDA3 Section 21.2 birthdays and birthdates example"
   ]
  },
  {
   "cell_type": "code",
   "execution_count": null,
   "metadata": {
    "collapsed": false
   },
   "outputs": [],
   "source": [
    "import numpy as np\n",
    "import scipy as sc\n",
    "import pandas as pd\n",
    "import matplotlib as plc\n",
    "import seaborn as sb\n",
    "from urllib.request import urlopen\n",
    "import datetime as dt\n",
    "%matplotlib inline"
   ]
  },
  {
   "cell_type": "markdown",
   "metadata": {},
   "source": [
    "## Read birthdates data from the web"
   ]
  },
  {
   "cell_type": "code",
   "execution_count": null,
   "metadata": {
    "collapsed": false
   },
   "outputs": [],
   "source": [
    "# Data from National Vital Statistics System mortality data\n",
    "# Provided by Michael Kern using Google BigQuery\n",
    "# Referenced in BDA3 p.516\n",
    "\n",
    "url=\"http://www.mechanicalkern.com/static/birthdates-1968-1988.csv\"   # Birth dates data URL\n",
    "\n",
    "f = urlopen(url)                                                      # get file object for URL contents\n",
    "\n",
    "bdates = pd.read_csv(f)                                               # create pandas DataFrame with read_csv()\n",
    "\n",
    "bdates.head()                                                         # take a look at a few records"
   ]
  },
  {
   "cell_type": "markdown",
   "metadata": {},
   "source": [
    "## Convert y-m-d values to pandas datetime values"
   ]
  },
  {
   "cell_type": "code",
   "execution_count": null,
   "metadata": {
    "collapsed": false
   },
   "outputs": [],
   "source": [
    "bdates['dt'] = pd.Series(pd.to_datetime(bdates.year.astype(str)+'-'+bdates.month.astype(str)+'-'+bdates.day.astype(str)))"
   ]
  },
  {
   "cell_type": "markdown",
   "metadata": {},
   "source": [
    "## Generate a sequential time index"
   ]
  },
  {
   "cell_type": "code",
   "execution_count": null,
   "metadata": {
    "collapsed": false
   },
   "outputs": [],
   "source": [
    "bdates['t'] = (bdates.dt-pd.to_datetime('1968-12-31'))/dt.timedelta(days=1)"
   ]
  },
  {
   "cell_type": "markdown",
   "metadata": {},
   "source": [
    "##  Generate index s for yearly smooth seasonal pattern"
   ]
  },
  {
   "cell_type": "code",
   "execution_count": null,
   "metadata": {
    "collapsed": false
   },
   "outputs": [],
   "source": [
    "bdates['s'] = bdates.t % 365.25             # s is sequential day number t mod 365.25\n",
    "bdates.head()"
   ]
  },
  {
   "cell_type": "markdown",
   "metadata": {},
   "source": [
    "## Generate special days indicators"
   ]
  },
  {
   "cell_type": "code",
   "execution_count": null,
   "metadata": {
    "collapsed": false
   },
   "outputs": [],
   "source": [
    "bdates['spec_01_01'] = pd.Series(((bdates.month==1) & (bdates.day==1)))\n",
    "\n",
    "bdates['spec_02_14'] = pd.Series(((bdates.month==2) & (bdates.day==14)))\n",
    "\n",
    "bdates['spec_02_29'] = pd.Series(((bdates.month==2) & (bdates.day==29)))\n",
    "\n",
    "bdates['spec_04_01'] = pd.Series(((bdates.month==4) & (bdates.day==1)))\n",
    "\n",
    "bdates['spec_07_04'] = pd.Series(((bdates.month==7) & (bdates.day==4)))\n",
    "\n",
    "bdates['spec_10_31'] = pd.Series(((bdates.month==10) & (bdates.day==31)))\n",
    "\n",
    "bdates['spec_12_25'] = pd.Series(((bdates.month==12) & (bdates.day==25)))\n",
    "\n",
    "bdates['spec_12_26'] = pd.Series(((bdates.month==12) & (bdates.day==26)))\n",
    "\n",
    "bdates['spec_12_27'] = pd.Series(((bdates.month==12) & (bdates.day==27)))\n",
    "\n",
    "bdates['spec_12_28'] = pd.Series(((bdates.month==12) & (bdates.day==28)))\n",
    "\n",
    "bdates['spec_12_29'] = pd.Series(((bdates.month==12) & (bdates.day==29)))\n",
    "\n",
    "bdates['spec_12_30'] = pd.Series(((bdates.month==12) & (bdates.day==30)))\n",
    "\n",
    "bdates['spec_12_31'] = pd.Series(((bdates.month==12) & (bdates.day==31)))\n",
    "\n",
    "bdates.head()"
   ]
  },
  {
   "cell_type": "markdown",
   "metadata": {},
   "source": [
    "## Generate weekend indicator"
   ]
  },
  {
   "cell_type": "code",
   "execution_count": null,
   "metadata": {
    "collapsed": false
   },
   "outputs": [],
   "source": [
    "bdates['weekend'] = pd.Series(((bdates.day_of_week==6) | (bdates.day_of_week==7)))\n",
    "bdates"
   ]
  },
  {
   "cell_type": "code",
   "execution_count": null,
   "metadata": {
    "collapsed": false
   },
   "outputs": [],
   "source": [
    "bdates.to_csv(\"BDA3_birthdays_and_birthdates.csv\")"
   ]
  }
 ],
 "metadata": {
  "kernelspec": {
   "display_name": "Python 3",
   "language": "python",
   "name": "python3"
  },
  "language_info": {
   "codemirror_mode": {
    "name": "ipython",
    "version": 3
   },
   "file_extension": ".py",
   "mimetype": "text/x-python",
   "name": "python",
   "nbconvert_exporter": "python",
   "pygments_lexer": "ipython3",
   "version": "3.5.2"
  }
 },
 "nbformat": 4,
 "nbformat_minor": 2
}
