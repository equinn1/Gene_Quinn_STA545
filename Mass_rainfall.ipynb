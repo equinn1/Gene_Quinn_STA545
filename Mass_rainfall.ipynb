{
 "cells": [
  {
   "cell_type": "markdown",
   "metadata": {},
   "source": [
    "## Build USHCN Massachusetts data"
   ]
  },
  {
   "cell_type": "code",
   "execution_count": 33,
   "metadata": {
    "collapsed": false
   },
   "outputs": [],
   "source": [
    "import numpy as np\n",
    "import scipy as sc\n",
    "import pandas as pd\n",
    "import matplotlib as plc\n",
    "from urllib.request import urlopen\n",
    "import gzip\n",
    "%matplotlib inline"
   ]
  },
  {
   "cell_type": "markdown",
   "metadata": {},
   "source": [
    "### Read the data for Massachusetts from the USHCN Daily climate database"
   ]
  },
  {
   "cell_type": "code",
   "execution_count": 34,
   "metadata": {
    "collapsed": false
   },
   "outputs": [
    {
     "name": "stdout",
     "output_type": "stream",
     "text": [
      "Number of station months:51993\n"
     ]
    }
   ],
   "source": [
    "url=\"http://cdiac.ornl.gov/ftp/ushcn_daily/state19_MA.txt.gz\"     #USHCN daily climate data for MA\n",
    "\n",
    "f = urlopen(url)                                                  #get file object for URL contents\n",
    "fg = gzip.open(f)                                                 #open with gzip to uncompress\n",
    "\n",
    "fc = fg.readlines()                                               #get the lines from the uncompressed file\n",
    "\n",
    "station_months = len(fc)                                          #each line is one station-month\n",
    "print(\"Number of station months:{}\".format(station_months))"
   ]
  },
  {
   "cell_type": "markdown",
   "metadata": {},
   "source": [
    "### Now figure out how many station days the data represents"
   ]
  },
  {
   "cell_type": "code",
   "execution_count": 35,
   "metadata": {
    "collapsed": true
   },
   "outputs": [],
   "source": [
    "ndays=[31,28,31,30,31,30,31,31,30,31,30,31]                       #number of days in each month"
   ]
  },
  {
   "cell_type": "code",
   "execution_count": 36,
   "metadata": {
    "collapsed": false
   },
   "outputs": [
    {
     "name": "stdout",
     "output_type": "stream",
     "text": [
      "Total number of station days:1582252\n"
     ]
    }
   ],
   "source": [
    "station_days=0\n",
    "for i in range(0,station_months):\n",
    "    coop_id  = fc[i][0:6].decode()                                #station id string\n",
    "    yyyy     = fc[i][6:10].decode()                               #convert year from bytes to string 'yyyy'\n",
    "    mm       = fc[i][10:12].decode()                              #convert month from bytes to string 'mm'\n",
    "    year     = int(yyyy)                                          #get year as integer\n",
    "    leapyear = ((year%4)==0 and (year%100)!=0) or (year%400)==0   #boolean: leapyear or not   \n",
    "    month    = int(mm)                                            #get month as integer\n",
    "    last_day = ndays[month-1]                                     #get the last day for this month from the table\n",
    "    if (month==2) and leapyear:                                   #February has 29 days in a leap year\n",
    "        last_day=29\n",
    "    station_days = station_days + last_day                        #just count the station days\n",
    "\n",
    "print(\"Total number of station days:{}\".format(station_days))"
   ]
  },
  {
   "cell_type": "markdown",
   "metadata": {},
   "source": [
    "### Preallocate lists to allow reference by index"
   ]
  },
  {
   "cell_type": "code",
   "execution_count": 37,
   "metadata": {
    "collapsed": true
   },
   "outputs": [],
   "source": [
    "dd = {}                                         #allocate a dictionary for building the data frame\n",
    "dd['coop_id'] = [None]*station_days             #populate a list for each column with 'None' for each line\n",
    "dd['date']    = [None]*station_days             #  (this eliminates the need to do append() to add data)\n",
    "dd['element'] = [None]*station_days\n",
    "dd['value']   = [None]*station_days\n",
    "dd['mflag']   = [None]*station_days\n",
    "dd['qflag']   = [None]*station_days\n",
    "dd['sflag']   = [None]*station_days\n",
    "dd['header']  = [None]*station_days\n",
    "dd['dstr']    = [None]*station_days"
   ]
  },
  {
   "cell_type": "markdown",
   "metadata": {},
   "source": [
    "### Populate the lists from the data"
   ]
  },
  {
   "cell_type": "code",
   "execution_count": 38,
   "metadata": {
    "collapsed": false
   },
   "outputs": [],
   "source": [
    "day=0\n",
    "for i in range(0,station_months):\n",
    "    header   = fc[i][0:16].decode()                                #header for this record\n",
    "    coop_id  = int(fc[i][0:6].decode())                            #station id string - convert to int\n",
    "    yyyy     = fc[i][6:10].decode()                                #convert year from bytes to string 'yyyy'\n",
    "    mm       = fc[i][10:12].decode()                               #convert month from bytes to string 'mm'\n",
    "    element  = fc[i][12:16].decode()                               #element string\n",
    "    \n",
    "    year     = int(yyyy)                                           #get year as integer\n",
    "    leapyear = ((year%4)==0 and (year%100)!=0) or (year%400)==0    #boolean: leapyear or not  \n",
    "    month    = int(mm)                                             #get month as integer\n",
    "    yyyymm   = yyyy + '-' + mm + '-'                               # 'yyyy-mm-' part of datestring\n",
    "    \n",
    "    last_day = ndays[month-1]                                      #get the last day for this month from the table\n",
    "    if month==2 and leapyear:                                      #February has 29 days in a leap year\n",
    "        last_day=29\n",
    "\n",
    "    for d in range(1,last_day+1):                                  #loop through only as many days as there are this month\n",
    "        offset             = 16+8*(d-1)                            #get the offset for this day\n",
    "        try:\n",
    "            dd['header'][day] = header                             #save the header\n",
    "            dd['dstr'][day] = fc[i][offset,offset+8].decode()      #save the string for this day\n",
    "            dd['coop_id'][day] = coop_id                           #update element list\n",
    "            dd['element'][day] = element                           #update element list\n",
    "            value = pd.to_numeric(fc[i][offset:offset+5])          #get 5-digit data value                         \n",
    "            if value < -9990.0:                                    #change anything less than -9990 to NaN \n",
    "                value = np.nan\n",
    "            dd['value'][day] = value                               #update values list\n",
    "            dd['mflag'][day] = fc[i][offset+5:offset+6].decode()   #update mflag list - single character string\n",
    "            dd['qflag'][day] = fc[i][offset+6:offset+7].decode()   #update qflag list - single character string\n",
    "            dd['sflag'][day] = fc[i][offset+7:offset+8].decode()   #update sflag list - single character string\n",
    "            daystr           ='{:02d}'.format(d)                   #convert day number to string 'dd' \n",
    "            try:\n",
    "                date =pd.to_datetime(yyyymm + daystr)              #convert 'yyyy-mm-dd' to datetime value\n",
    "            except ValueError:\n",
    "                print(\"Invalid date: {}\".format(yyyymm+daystr))\n",
    "            dd['date'][day] = date                                 #update date list\n",
    "        except IndexError:                                         #check for subscript out of bounds\n",
    "            print(\"IndexError: days={}\".format(days))\n",
    "            print(\"i: {}\".format(i))\n",
    "        day=day+1                                                  #increment day number"
   ]
  },
  {
   "cell_type": "markdown",
   "metadata": {},
   "source": [
    "### Use the populated lists to build a data frame"
   ]
  },
  {
   "cell_type": "code",
   "execution_count": 39,
   "metadata": {
    "collapsed": false
   },
   "outputs": [
    {
     "data": {
      "text/html": [
       "<div>\n",
       "<table border=\"1\" class=\"dataframe\">\n",
       "  <thead>\n",
       "    <tr style=\"text-align: right;\">\n",
       "      <th></th>\n",
       "      <th>coop_id</th>\n",
       "      <th>date</th>\n",
       "      <th>element</th>\n",
       "      <th>line</th>\n",
       "      <th>mflag</th>\n",
       "      <th>qflag</th>\n",
       "      <th>sflag</th>\n",
       "      <th>value</th>\n",
       "    </tr>\n",
       "  </thead>\n",
       "  <tbody>\n",
       "    <tr>\n",
       "      <th>0</th>\n",
       "      <td>190120</td>\n",
       "      <td>1893-01-01</td>\n",
       "      <td>TMAX</td>\n",
       "      <td>190120189301TMAX   44  6   55  6   31  6   21 ...</td>\n",
       "      <td></td>\n",
       "      <td></td>\n",
       "      <td>6</td>\n",
       "      <td>44.0</td>\n",
       "    </tr>\n",
       "    <tr>\n",
       "      <th>1</th>\n",
       "      <td>190120</td>\n",
       "      <td>1893-01-02</td>\n",
       "      <td>TMAX</td>\n",
       "      <td>190120189301TMAX   44  6   55  6   31  6   21 ...</td>\n",
       "      <td></td>\n",
       "      <td></td>\n",
       "      <td>6</td>\n",
       "      <td>55.0</td>\n",
       "    </tr>\n",
       "    <tr>\n",
       "      <th>2</th>\n",
       "      <td>190120</td>\n",
       "      <td>1893-01-03</td>\n",
       "      <td>TMAX</td>\n",
       "      <td>190120189301TMAX   44  6   55  6   31  6   21 ...</td>\n",
       "      <td></td>\n",
       "      <td></td>\n",
       "      <td>6</td>\n",
       "      <td>31.0</td>\n",
       "    </tr>\n",
       "    <tr>\n",
       "      <th>3</th>\n",
       "      <td>190120</td>\n",
       "      <td>1893-01-04</td>\n",
       "      <td>TMAX</td>\n",
       "      <td>190120189301TMAX   44  6   55  6   31  6   21 ...</td>\n",
       "      <td></td>\n",
       "      <td></td>\n",
       "      <td>6</td>\n",
       "      <td>21.0</td>\n",
       "    </tr>\n",
       "    <tr>\n",
       "      <th>4</th>\n",
       "      <td>190120</td>\n",
       "      <td>1893-01-05</td>\n",
       "      <td>TMAX</td>\n",
       "      <td>190120189301TMAX   44  6   55  6   31  6   21 ...</td>\n",
       "      <td></td>\n",
       "      <td></td>\n",
       "      <td>6</td>\n",
       "      <td>25.0</td>\n",
       "    </tr>\n",
       "  </tbody>\n",
       "</table>\n",
       "</div>"
      ],
      "text/plain": [
       "   coop_id       date element  \\\n",
       "0   190120 1893-01-01    TMAX   \n",
       "1   190120 1893-01-02    TMAX   \n",
       "2   190120 1893-01-03    TMAX   \n",
       "3   190120 1893-01-04    TMAX   \n",
       "4   190120 1893-01-05    TMAX   \n",
       "\n",
       "                                                line mflag qflag sflag  value  \n",
       "0  190120189301TMAX   44  6   55  6   31  6   21 ...                 6   44.0  \n",
       "1  190120189301TMAX   44  6   55  6   31  6   21 ...                 6   55.0  \n",
       "2  190120189301TMAX   44  6   55  6   31  6   21 ...                 6   31.0  \n",
       "3  190120189301TMAX   44  6   55  6   31  6   21 ...                 6   21.0  \n",
       "4  190120189301TMAX   44  6   55  6   31  6   21 ...                 6   25.0  "
      ]
     },
     "execution_count": 39,
     "metadata": {},
     "output_type": "execute_result"
    }
   ],
   "source": [
    "ushcn1 = pd.DataFrame(dd)                                          #construct DataFrame object from dictionary\n",
    "ushcn1.head()                                                      #show the first few rows"
   ]
  },
  {
   "cell_type": "code",
   "execution_count": 40,
   "metadata": {
    "collapsed": true
   },
   "outputs": [],
   "source": [
    "ushcn1.to_pickle('../ushcn1_MA.p')"
   ]
  },
  {
   "cell_type": "markdown",
   "metadata": {},
   "source": [
    "### Combine rows so that there is one row per station per day, with all recorded data"
   ]
  },
  {
   "cell_type": "code",
   "execution_count": 47,
   "metadata": {
    "collapsed": false
   },
   "outputs": [
    {
     "ename": "ValueError",
     "evalue": "Length mismatch: Expected axis has 7 elements, new values have 6 elements",
     "output_type": "error",
     "traceback": [
      "\u001b[0;31m---------------------------------------------------------------------------\u001b[0m",
      "\u001b[0;31mValueError\u001b[0m                                Traceback (most recent call last)",
      "\u001b[0;32m<ipython-input-47-c7e552514450>\u001b[0m in \u001b[0;36m<module>\u001b[0;34m()\u001b[0m\n\u001b[1;32m      3\u001b[0m \u001b[0mushcn_PRCP\u001b[0m \u001b[0;34m=\u001b[0m \u001b[0mushcn1\u001b[0m\u001b[0;34m[\u001b[0m\u001b[0mushcn1\u001b[0m\u001b[0;34m[\u001b[0m\u001b[0;34m'element'\u001b[0m\u001b[0;34m]\u001b[0m\u001b[0;34m==\u001b[0m\u001b[0;34m'PRCP'\u001b[0m\u001b[0;34m]\u001b[0m\u001b[0;34m.\u001b[0m\u001b[0mdrop\u001b[0m\u001b[0;34m(\u001b[0m\u001b[0;34m[\u001b[0m\u001b[0;34m'element'\u001b[0m\u001b[0;34m]\u001b[0m\u001b[0;34m,\u001b[0m\u001b[0maxis\u001b[0m\u001b[0;34m=\u001b[0m\u001b[0;36m1\u001b[0m\u001b[0;34m)\u001b[0m\u001b[0;34m\u001b[0m\u001b[0m\n\u001b[1;32m      4\u001b[0m \u001b[0mushcn_PRCP\u001b[0m\u001b[0;34m.\u001b[0m\u001b[0mhead\u001b[0m\u001b[0;34m(\u001b[0m\u001b[0;34m)\u001b[0m\u001b[0;34m\u001b[0m\u001b[0m\n\u001b[0;32m----> 5\u001b[0;31m \u001b[0mushcn_PRCP\u001b[0m\u001b[0;34m.\u001b[0m\u001b[0mcolumns\u001b[0m\u001b[0;34m=\u001b[0m\u001b[0;34m[\u001b[0m\u001b[0;34m'coop_id'\u001b[0m\u001b[0;34m,\u001b[0m\u001b[0;34m'date'\u001b[0m\u001b[0;34m,\u001b[0m\u001b[0;34m'mflag_PRCP'\u001b[0m\u001b[0;34m,\u001b[0m \u001b[0;34m'qflag_PRCP'\u001b[0m\u001b[0;34m,\u001b[0m \u001b[0;34m'sflag_PRCP'\u001b[0m\u001b[0;34m,\u001b[0m\u001b[0;34m'prcp'\u001b[0m\u001b[0;34m]\u001b[0m\u001b[0;34m\u001b[0m\u001b[0m\n\u001b[0m\u001b[1;32m      6\u001b[0m \u001b[0;34m\u001b[0m\u001b[0m\n\u001b[1;32m      7\u001b[0m \u001b[0;31m#get minimum temperature data only - element 'TMIN' - and rename columns for merge\u001b[0m\u001b[0;34m\u001b[0m\u001b[0;34m\u001b[0m\u001b[0m\n",
      "\u001b[0;32m/usr/lib64/python3.5/site-packages/pandas/core/generic.py\u001b[0m in \u001b[0;36m__setattr__\u001b[0;34m(self, name, value)\u001b[0m\n\u001b[1;32m   2755\u001b[0m         \u001b[0;32mtry\u001b[0m\u001b[0;34m:\u001b[0m\u001b[0;34m\u001b[0m\u001b[0m\n\u001b[1;32m   2756\u001b[0m             \u001b[0mobject\u001b[0m\u001b[0;34m.\u001b[0m\u001b[0m__getattribute__\u001b[0m\u001b[0;34m(\u001b[0m\u001b[0mself\u001b[0m\u001b[0;34m,\u001b[0m \u001b[0mname\u001b[0m\u001b[0;34m)\u001b[0m\u001b[0;34m\u001b[0m\u001b[0m\n\u001b[0;32m-> 2757\u001b[0;31m             \u001b[0;32mreturn\u001b[0m \u001b[0mobject\u001b[0m\u001b[0;34m.\u001b[0m\u001b[0m__setattr__\u001b[0m\u001b[0;34m(\u001b[0m\u001b[0mself\u001b[0m\u001b[0;34m,\u001b[0m \u001b[0mname\u001b[0m\u001b[0;34m,\u001b[0m \u001b[0mvalue\u001b[0m\u001b[0;34m)\u001b[0m\u001b[0;34m\u001b[0m\u001b[0m\n\u001b[0m\u001b[1;32m   2758\u001b[0m         \u001b[0;32mexcept\u001b[0m \u001b[0mAttributeError\u001b[0m\u001b[0;34m:\u001b[0m\u001b[0;34m\u001b[0m\u001b[0m\n\u001b[1;32m   2759\u001b[0m             \u001b[0;32mpass\u001b[0m\u001b[0;34m\u001b[0m\u001b[0m\n",
      "\u001b[0;32mpandas/src/properties.pyx\u001b[0m in \u001b[0;36mpandas.lib.AxisProperty.__set__ (pandas/lib.c:46249)\u001b[0;34m()\u001b[0m\n",
      "\u001b[0;32m/usr/lib64/python3.5/site-packages/pandas/core/generic.py\u001b[0m in \u001b[0;36m_set_axis\u001b[0;34m(self, axis, labels)\u001b[0m\n\u001b[1;32m    446\u001b[0m \u001b[0;34m\u001b[0m\u001b[0m\n\u001b[1;32m    447\u001b[0m     \u001b[0;32mdef\u001b[0m \u001b[0m_set_axis\u001b[0m\u001b[0;34m(\u001b[0m\u001b[0mself\u001b[0m\u001b[0;34m,\u001b[0m \u001b[0maxis\u001b[0m\u001b[0;34m,\u001b[0m \u001b[0mlabels\u001b[0m\u001b[0;34m)\u001b[0m\u001b[0;34m:\u001b[0m\u001b[0;34m\u001b[0m\u001b[0m\n\u001b[0;32m--> 448\u001b[0;31m         \u001b[0mself\u001b[0m\u001b[0;34m.\u001b[0m\u001b[0m_data\u001b[0m\u001b[0;34m.\u001b[0m\u001b[0mset_axis\u001b[0m\u001b[0;34m(\u001b[0m\u001b[0maxis\u001b[0m\u001b[0;34m,\u001b[0m \u001b[0mlabels\u001b[0m\u001b[0;34m)\u001b[0m\u001b[0;34m\u001b[0m\u001b[0m\n\u001b[0m\u001b[1;32m    449\u001b[0m         \u001b[0mself\u001b[0m\u001b[0;34m.\u001b[0m\u001b[0m_clear_item_cache\u001b[0m\u001b[0;34m(\u001b[0m\u001b[0;34m)\u001b[0m\u001b[0;34m\u001b[0m\u001b[0m\n\u001b[1;32m    450\u001b[0m \u001b[0;34m\u001b[0m\u001b[0m\n",
      "\u001b[0;32m/usr/lib64/python3.5/site-packages/pandas/core/internals.py\u001b[0m in \u001b[0;36mset_axis\u001b[0;34m(self, axis, new_labels)\u001b[0m\n\u001b[1;32m   2800\u001b[0m             raise ValueError('Length mismatch: Expected axis has %d elements, '\n\u001b[1;32m   2801\u001b[0m                              \u001b[0;34m'new values have %d elements'\u001b[0m \u001b[0;34m%\u001b[0m\u001b[0;34m\u001b[0m\u001b[0m\n\u001b[0;32m-> 2802\u001b[0;31m                              (old_len, new_len))\n\u001b[0m\u001b[1;32m   2803\u001b[0m \u001b[0;34m\u001b[0m\u001b[0m\n\u001b[1;32m   2804\u001b[0m         \u001b[0mself\u001b[0m\u001b[0;34m.\u001b[0m\u001b[0maxes\u001b[0m\u001b[0;34m[\u001b[0m\u001b[0maxis\u001b[0m\u001b[0;34m]\u001b[0m \u001b[0;34m=\u001b[0m \u001b[0mnew_labels\u001b[0m\u001b[0;34m\u001b[0m\u001b[0m\n",
      "\u001b[0;31mValueError\u001b[0m: Length mismatch: Expected axis has 7 elements, new values have 6 elements"
     ]
    }
   ],
   "source": [
    "#get precipitation data only - element 'PRCP' - and rename columns for merge\n",
    "#\n",
    "ushcn_PRCP = ushcn1[ushcn1['element']=='PRCP'].drop(['element'],axis=1)\n",
    "ushcn_PRCP.head()\n",
    "ushcn_PRCP.columns=['coop_id','date','mflag_PRCP', 'qflag_PRCP', 'sflag_PRCP','prcp']\n",
    "\n",
    "#get minimum temperature data only - element 'TMIN' - and rename columns for merge\n",
    "#\n",
    "ushcn_TMIN = ushcn1[ushcn1['element']=='TMIN'].drop(['element','line'],axis=1)\n",
    "ushcn_TMIN.columns=['coop_id','date','mflag_TMIN', 'qflag_TMIN', 'sflag_TMIN','tmin']\n",
    "\n",
    "#get maximum temperature data only - element 'TMAX' - and rename columns for merge\n",
    "#\n",
    "ushcn_TMAX = ushcn1[ushcn1['element']=='TMAX'].drop(['element','line'],axis=1)\n",
    "ushcn_TMAX.columns=['coop_id','date','mflag_TMAX', 'qflag_TMAX', 'sflag_TMAX','tmax']\n",
    "\n",
    "#get snow data only - element 'SNOW' - and rename columns for merge\n",
    "#\n",
    "ushcn_SNOW = ushcn1[ushcn1['element']=='SNOW'].drop(['element','line'],axis=1)\n",
    "ushcn_SNOW.columns=['coop_id','date','mflag_SNOW', 'qflag_SNOW', 'sflag_SNOW','snow']\n",
    "\n",
    "#get snow depth data only - element 'SNWD' - and rename columns for merge\n",
    "#\n",
    "ushcn_SNWD = ushcn1[ushcn1['element']=='SNWD'].drop(['element','line'],axis=1)\n",
    "ushcn_SNWD.columns=['coop_id','date','mflag_SNWD', 'qflag_SNWD', 'sflag_SNWD','snwd']"
   ]
  },
  {
   "cell_type": "markdown",
   "metadata": {},
   "source": [
    "### Merge by station id and date to create a single data frame"
   ]
  },
  {
   "cell_type": "code",
   "execution_count": 42,
   "metadata": {
    "collapsed": false
   },
   "outputs": [
    {
     "data": {
      "text/html": [
       "<div>\n",
       "<table border=\"1\" class=\"dataframe\">\n",
       "  <thead>\n",
       "    <tr style=\"text-align: right;\">\n",
       "      <th></th>\n",
       "      <th>coop_id</th>\n",
       "      <th>date</th>\n",
       "      <th>mflag_PRCP</th>\n",
       "      <th>qflag_PRCP</th>\n",
       "      <th>sflag_PRCP</th>\n",
       "      <th>prcp</th>\n",
       "      <th>line</th>\n",
       "      <th>mflag_SNOW</th>\n",
       "      <th>qflag_SNOW</th>\n",
       "      <th>sflag_SNOW</th>\n",
       "      <th>...</th>\n",
       "      <th>sflag_TMAX</th>\n",
       "      <th>tmax</th>\n",
       "      <th>mflag_TMIN</th>\n",
       "      <th>qflag_TMIN</th>\n",
       "      <th>sflag_TMIN</th>\n",
       "      <th>tmin</th>\n",
       "      <th>mflag_SNWD</th>\n",
       "      <th>qflag_SNWD</th>\n",
       "      <th>sflag_SNWD</th>\n",
       "      <th>snwd</th>\n",
       "    </tr>\n",
       "  </thead>\n",
       "  <tbody>\n",
       "    <tr>\n",
       "      <th>0</th>\n",
       "      <td>190120</td>\n",
       "      <td>1893-01-01</td>\n",
       "      <td>190120189301PRCP    0P 6  215  6    0P 6    0P...</td>\n",
       "      <td>P</td>\n",
       "      <td></td>\n",
       "      <td>6</td>\n",
       "      <td>0.0</td>\n",
       "      <td></td>\n",
       "      <td></td>\n",
       "      <td>6</td>\n",
       "      <td>...</td>\n",
       "      <td>6</td>\n",
       "      <td>44.0</td>\n",
       "      <td></td>\n",
       "      <td></td>\n",
       "      <td>6</td>\n",
       "      <td>21.0</td>\n",
       "      <td>NaN</td>\n",
       "      <td>NaN</td>\n",
       "      <td>NaN</td>\n",
       "      <td>NaN</td>\n",
       "    </tr>\n",
       "    <tr>\n",
       "      <th>1</th>\n",
       "      <td>190120</td>\n",
       "      <td>1893-01-02</td>\n",
       "      <td>190120189301PRCP    0P 6  215  6    0P 6    0P...</td>\n",
       "      <td></td>\n",
       "      <td></td>\n",
       "      <td>6</td>\n",
       "      <td>215.0</td>\n",
       "      <td></td>\n",
       "      <td></td>\n",
       "      <td>6</td>\n",
       "      <td>...</td>\n",
       "      <td>6</td>\n",
       "      <td>55.0</td>\n",
       "      <td></td>\n",
       "      <td></td>\n",
       "      <td>6</td>\n",
       "      <td>32.0</td>\n",
       "      <td>NaN</td>\n",
       "      <td>NaN</td>\n",
       "      <td>NaN</td>\n",
       "      <td>NaN</td>\n",
       "    </tr>\n",
       "    <tr>\n",
       "      <th>2</th>\n",
       "      <td>190120</td>\n",
       "      <td>1893-01-03</td>\n",
       "      <td>190120189301PRCP    0P 6  215  6    0P 6    0P...</td>\n",
       "      <td>P</td>\n",
       "      <td></td>\n",
       "      <td>6</td>\n",
       "      <td>0.0</td>\n",
       "      <td></td>\n",
       "      <td></td>\n",
       "      <td>6</td>\n",
       "      <td>...</td>\n",
       "      <td>6</td>\n",
       "      <td>31.0</td>\n",
       "      <td></td>\n",
       "      <td></td>\n",
       "      <td>6</td>\n",
       "      <td>10.0</td>\n",
       "      <td>NaN</td>\n",
       "      <td>NaN</td>\n",
       "      <td>NaN</td>\n",
       "      <td>NaN</td>\n",
       "    </tr>\n",
       "    <tr>\n",
       "      <th>3</th>\n",
       "      <td>190120</td>\n",
       "      <td>1893-01-04</td>\n",
       "      <td>190120189301PRCP    0P 6  215  6    0P 6    0P...</td>\n",
       "      <td>P</td>\n",
       "      <td></td>\n",
       "      <td>6</td>\n",
       "      <td>0.0</td>\n",
       "      <td></td>\n",
       "      <td></td>\n",
       "      <td>6</td>\n",
       "      <td>...</td>\n",
       "      <td>6</td>\n",
       "      <td>21.0</td>\n",
       "      <td></td>\n",
       "      <td></td>\n",
       "      <td>6</td>\n",
       "      <td>4.0</td>\n",
       "      <td>NaN</td>\n",
       "      <td>NaN</td>\n",
       "      <td>NaN</td>\n",
       "      <td>NaN</td>\n",
       "    </tr>\n",
       "    <tr>\n",
       "      <th>4</th>\n",
       "      <td>190120</td>\n",
       "      <td>1893-01-05</td>\n",
       "      <td>190120189301PRCP    0P 6  215  6    0P 6    0P...</td>\n",
       "      <td>P</td>\n",
       "      <td></td>\n",
       "      <td>6</td>\n",
       "      <td>0.0</td>\n",
       "      <td></td>\n",
       "      <td></td>\n",
       "      <td>6</td>\n",
       "      <td>...</td>\n",
       "      <td>6</td>\n",
       "      <td>25.0</td>\n",
       "      <td></td>\n",
       "      <td></td>\n",
       "      <td>6</td>\n",
       "      <td>15.0</td>\n",
       "      <td>NaN</td>\n",
       "      <td>NaN</td>\n",
       "      <td>NaN</td>\n",
       "      <td>NaN</td>\n",
       "    </tr>\n",
       "  </tbody>\n",
       "</table>\n",
       "<p>5 rows × 23 columns</p>\n",
       "</div>"
      ],
      "text/plain": [
       "   coop_id       date                                         mflag_PRCP  \\\n",
       "0   190120 1893-01-01  190120189301PRCP    0P 6  215  6    0P 6    0P...   \n",
       "1   190120 1893-01-02  190120189301PRCP    0P 6  215  6    0P 6    0P...   \n",
       "2   190120 1893-01-03  190120189301PRCP    0P 6  215  6    0P 6    0P...   \n",
       "3   190120 1893-01-04  190120189301PRCP    0P 6  215  6    0P 6    0P...   \n",
       "4   190120 1893-01-05  190120189301PRCP    0P 6  215  6    0P 6    0P...   \n",
       "\n",
       "  qflag_PRCP sflag_PRCP prcp   line mflag_SNOW qflag_SNOW sflag_SNOW ...   \\\n",
       "0          P               6    0.0                                6 ...    \n",
       "1                          6  215.0                                6 ...    \n",
       "2          P               6    0.0                                6 ...    \n",
       "3          P               6    0.0                                6 ...    \n",
       "4          P               6    0.0                                6 ...    \n",
       "\n",
       "   sflag_TMAX  tmax mflag_TMIN qflag_TMIN  sflag_TMIN  tmin mflag_SNWD  \\\n",
       "0           6  44.0                                 6  21.0        NaN   \n",
       "1           6  55.0                                 6  32.0        NaN   \n",
       "2           6  31.0                                 6  10.0        NaN   \n",
       "3           6  21.0                                 6   4.0        NaN   \n",
       "4           6  25.0                                 6  15.0        NaN   \n",
       "\n",
       "  qflag_SNWD  sflag_SNWD snwd  \n",
       "0        NaN         NaN  NaN  \n",
       "1        NaN         NaN  NaN  \n",
       "2        NaN         NaN  NaN  \n",
       "3        NaN         NaN  NaN  \n",
       "4        NaN         NaN  NaN  \n",
       "\n",
       "[5 rows x 23 columns]"
      ]
     },
     "execution_count": 42,
     "metadata": {},
     "output_type": "execute_result"
    }
   ],
   "source": [
    "ushcna = ushcn_PRCP.merge(ushcn_SNOW,how='outer',on=['coop_id','date'])\n",
    "ushcnb = ushcna.merge(ushcn_TMAX,how='outer',on=['coop_id','date'])\n",
    "ushcnc = ushcnb.merge(ushcn_TMIN,how='outer',on=['coop_id','date'])\n",
    "ushcnd = ushcnc.merge(ushcn_SNWD,how='outer',on=['coop_id','date'])\n",
    "ushcnd.head()"
   ]
  },
  {
   "cell_type": "markdown",
   "metadata": {},
   "source": [
    "### Get station data "
   ]
  },
  {
   "cell_type": "code",
   "execution_count": 43,
   "metadata": {
    "collapsed": false
   },
   "outputs": [
    {
     "data": {
      "text/html": [
       "<div>\n",
       "<table border=\"1\" class=\"dataframe\">\n",
       "  <thead>\n",
       "    <tr style=\"text-align: right;\">\n",
       "      <th></th>\n",
       "      <th>coop_id</th>\n",
       "      <th>latitude</th>\n",
       "      <th>longitude</th>\n",
       "      <th>state</th>\n",
       "      <th>station</th>\n",
       "    </tr>\n",
       "  </thead>\n",
       "  <tbody>\n",
       "    <tr>\n",
       "      <th>0</th>\n",
       "      <td>11084</td>\n",
       "      <td>31.0581</td>\n",
       "      <td>-87.0547</td>\n",
       "      <td>AL</td>\n",
       "      <td>BREWTON 3 SSE</td>\n",
       "    </tr>\n",
       "    <tr>\n",
       "      <th>1</th>\n",
       "      <td>12813</td>\n",
       "      <td>30.5467</td>\n",
       "      <td>-87.8808</td>\n",
       "      <td>AL</td>\n",
       "      <td>FAIRHOPE 2 NE</td>\n",
       "    </tr>\n",
       "    <tr>\n",
       "      <th>2</th>\n",
       "      <td>13160</td>\n",
       "      <td>32.8347</td>\n",
       "      <td>-88.1342</td>\n",
       "      <td>AL</td>\n",
       "      <td>GAINESVILLE LOCK</td>\n",
       "    </tr>\n",
       "    <tr>\n",
       "      <th>3</th>\n",
       "      <td>13511</td>\n",
       "      <td>32.7017</td>\n",
       "      <td>-87.5808</td>\n",
       "      <td>AL</td>\n",
       "      <td>GREENSBORO</td>\n",
       "    </tr>\n",
       "    <tr>\n",
       "      <th>4</th>\n",
       "      <td>13816</td>\n",
       "      <td>31.8700</td>\n",
       "      <td>-86.2542</td>\n",
       "      <td>AL</td>\n",
       "      <td>HIGHLAND HOME</td>\n",
       "    </tr>\n",
       "  </tbody>\n",
       "</table>\n",
       "</div>"
      ],
      "text/plain": [
       "   coop_id  latitude  longitude state           station\n",
       "0    11084   31.0581   -87.0547    AL     BREWTON 3 SSE\n",
       "1    12813   30.5467   -87.8808    AL     FAIRHOPE 2 NE\n",
       "2    13160   32.8347   -88.1342    AL  GAINESVILLE LOCK\n",
       "3    13511   32.7017   -87.5808    AL        GREENSBORO\n",
       "4    13816   31.8700   -86.2542    AL     HIGHLAND HOME"
      ]
     },
     "execution_count": 43,
     "metadata": {},
     "output_type": "execute_result"
    }
   ],
   "source": [
    "f =urlopen(\"http://cdiac.ornl.gov/ftp/ushcn_daily/ushcn-stations.txt\")   #USHCN daily climate data stations file\n",
    "\n",
    "coop_id   = []                                        #allocate lists to hold values\n",
    "latitude  = []\n",
    "longitude = []\n",
    "state     = []\n",
    "station   = []\n",
    "\n",
    "for line in f:                                        #append values to lists\n",
    "    coop_id.append(int(line[0:6].decode()))           #coop id\n",
    "    latitude.append(pd.to_numeric(line[6:16]))        #latitude   \n",
    "    longitude.append(pd.to_numeric(line[17:26]))      #latitude\n",
    "    state.append(line[33:35].decode())                #state\n",
    "    station.append(line[36:66].decode().strip())      #station name with trailing blanks stripped out\n",
    "\n",
    "stations = pd.DataFrame(                              #construct DataFrame object from lists\n",
    "    {'coop_id':coop_id,\n",
    "     'latitude':latitude,\n",
    "     'longitude':longitude,\n",
    "     'state':state,\n",
    "     'station':station\n",
    "    })\n",
    "\n",
    "f.close()\n",
    "\n",
    "stations.head()"
   ]
  },
  {
   "cell_type": "code",
   "execution_count": 44,
   "metadata": {
    "collapsed": false
   },
   "outputs": [
    {
     "data": {
      "text/html": [
       "<div>\n",
       "<table border=\"1\" class=\"dataframe\">\n",
       "  <thead>\n",
       "    <tr style=\"text-align: right;\">\n",
       "      <th></th>\n",
       "      <th>coop_id</th>\n",
       "      <th>latitude</th>\n",
       "      <th>longitude</th>\n",
       "      <th>state</th>\n",
       "      <th>station</th>\n",
       "    </tr>\n",
       "  </thead>\n",
       "  <tbody>\n",
       "    <tr>\n",
       "      <th>401</th>\n",
       "      <td>190120</td>\n",
       "      <td>42.3861</td>\n",
       "      <td>-72.5375</td>\n",
       "      <td>MA</td>\n",
       "      <td>AMHERST</td>\n",
       "    </tr>\n",
       "    <tr>\n",
       "      <th>402</th>\n",
       "      <td>190535</td>\n",
       "      <td>42.4833</td>\n",
       "      <td>-71.2833</td>\n",
       "      <td>MA</td>\n",
       "      <td>BEDFORD</td>\n",
       "    </tr>\n",
       "    <tr>\n",
       "      <th>403</th>\n",
       "      <td>190736</td>\n",
       "      <td>42.2122</td>\n",
       "      <td>-71.1136</td>\n",
       "      <td>MA</td>\n",
       "      <td>BLUE HILL</td>\n",
       "    </tr>\n",
       "    <tr>\n",
       "      <th>404</th>\n",
       "      <td>193213</td>\n",
       "      <td>42.1450</td>\n",
       "      <td>-73.4172</td>\n",
       "      <td>MA</td>\n",
       "      <td>GREAT BARRINGTON 5 SW</td>\n",
       "    </tr>\n",
       "    <tr>\n",
       "      <th>405</th>\n",
       "      <td>194105</td>\n",
       "      <td>42.6992</td>\n",
       "      <td>-71.1658</td>\n",
       "      <td>MA</td>\n",
       "      <td>LAWRENCE</td>\n",
       "    </tr>\n",
       "    <tr>\n",
       "      <th>406</th>\n",
       "      <td>195246</td>\n",
       "      <td>41.6333</td>\n",
       "      <td>-70.9333</td>\n",
       "      <td>MA</td>\n",
       "      <td>NEW BEDFORD</td>\n",
       "    </tr>\n",
       "    <tr>\n",
       "      <th>407</th>\n",
       "      <td>196486</td>\n",
       "      <td>41.9819</td>\n",
       "      <td>-70.6961</td>\n",
       "      <td>MA</td>\n",
       "      <td>PLYMOUTH-KINGSTON</td>\n",
       "    </tr>\n",
       "    <tr>\n",
       "      <th>408</th>\n",
       "      <td>196681</td>\n",
       "      <td>42.0500</td>\n",
       "      <td>-70.1833</td>\n",
       "      <td>MA</td>\n",
       "      <td>PROVINCETOWN</td>\n",
       "    </tr>\n",
       "    <tr>\n",
       "      <th>409</th>\n",
       "      <td>196783</td>\n",
       "      <td>42.5242</td>\n",
       "      <td>-71.1264</td>\n",
       "      <td>MA</td>\n",
       "      <td>READING</td>\n",
       "    </tr>\n",
       "    <tr>\n",
       "      <th>410</th>\n",
       "      <td>198367</td>\n",
       "      <td>41.9003</td>\n",
       "      <td>-71.0658</td>\n",
       "      <td>MA</td>\n",
       "      <td>TAUNTON</td>\n",
       "    </tr>\n",
       "    <tr>\n",
       "      <th>411</th>\n",
       "      <td>198757</td>\n",
       "      <td>42.1608</td>\n",
       "      <td>-71.2458</td>\n",
       "      <td>MA</td>\n",
       "      <td>WALPOLE 2</td>\n",
       "    </tr>\n",
       "    <tr>\n",
       "      <th>412</th>\n",
       "      <td>199316</td>\n",
       "      <td>42.1333</td>\n",
       "      <td>-71.4333</td>\n",
       "      <td>MA</td>\n",
       "      <td>WEST MEDWAY</td>\n",
       "    </tr>\n",
       "  </tbody>\n",
       "</table>\n",
       "</div>"
      ],
      "text/plain": [
       "     coop_id  latitude  longitude state                station\n",
       "401   190120   42.3861   -72.5375    MA                AMHERST\n",
       "402   190535   42.4833   -71.2833    MA                BEDFORD\n",
       "403   190736   42.2122   -71.1136    MA              BLUE HILL\n",
       "404   193213   42.1450   -73.4172    MA  GREAT BARRINGTON 5 SW\n",
       "405   194105   42.6992   -71.1658    MA               LAWRENCE\n",
       "406   195246   41.6333   -70.9333    MA            NEW BEDFORD\n",
       "407   196486   41.9819   -70.6961    MA      PLYMOUTH-KINGSTON\n",
       "408   196681   42.0500   -70.1833    MA           PROVINCETOWN\n",
       "409   196783   42.5242   -71.1264    MA                READING\n",
       "410   198367   41.9003   -71.0658    MA                TAUNTON\n",
       "411   198757   42.1608   -71.2458    MA              WALPOLE 2\n",
       "412   199316   42.1333   -71.4333    MA            WEST MEDWAY"
      ]
     },
     "execution_count": 44,
     "metadata": {},
     "output_type": "execute_result"
    }
   ],
   "source": [
    "stations[stations.state=='MA']"
   ]
  },
  {
   "cell_type": "markdown",
   "metadata": {},
   "source": [
    "### Merge station data to produce final data frame"
   ]
  },
  {
   "cell_type": "code",
   "execution_count": 45,
   "metadata": {
    "collapsed": false
   },
   "outputs": [
    {
     "data": {
      "text/plain": [
       "(351273, 27)"
      ]
     },
     "execution_count": 45,
     "metadata": {},
     "output_type": "execute_result"
    }
   ],
   "source": [
    "ushcn_MA = ushcnd.merge(stations,how='inner',on=['coop_id'])\n",
    "ushcn_MA.shape"
   ]
  },
  {
   "cell_type": "code",
   "execution_count": 46,
   "metadata": {
    "collapsed": true
   },
   "outputs": [],
   "source": [
    "ushcn_MA.to_pickle('../ushcn_MA.p')"
   ]
  },
  {
   "cell_type": "code",
   "execution_count": null,
   "metadata": {
    "collapsed": true
   },
   "outputs": [],
   "source": []
  }
 ],
 "metadata": {
  "kernelspec": {
   "display_name": "Python 3",
   "language": "python",
   "name": "python3"
  },
  "language_info": {
   "codemirror_mode": {
    "name": "ipython",
    "version": 3
   },
   "file_extension": ".py",
   "mimetype": "text/x-python",
   "name": "python",
   "nbconvert_exporter": "python",
   "pygments_lexer": "ipython3",
   "version": "3.5.2"
  }
 },
 "nbformat": 4,
 "nbformat_minor": 2
}
